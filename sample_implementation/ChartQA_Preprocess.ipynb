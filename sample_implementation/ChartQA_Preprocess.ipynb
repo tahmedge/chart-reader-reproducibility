{
  "nbformat": 4,
  "nbformat_minor": 0,
  "metadata": {
    "colab": {
      "provenance": []
    },
    "kernelspec": {
      "name": "python3",
      "display_name": "Python 3"
    },
    "language_info": {
      "name": "python"
    }
  },
  "cells": [
    {
      "cell_type": "markdown",
      "source": [
        "\n",
        "\n",
        "---\n",
        "\n",
        "\n",
        "\n",
        "**Dataset Preparation**\n",
        "\n",
        "\n",
        "---\n",
        "\n"
      ],
      "metadata": {
        "id": "oCIZu3vUytsH"
      }
    },
    {
      "cell_type": "markdown",
      "source": [
        "ChartQA"
      ],
      "metadata": {
        "id": "du_lD_tNywlw"
      }
    },
    {
      "cell_type": "code",
      "source": [
        "import pandas as pd\n",
        "from tqdm import tqdm\n",
        "import os"
      ],
      "metadata": {
        "id": "9n3b0VpsiI0I"
      },
      "execution_count": 12,
      "outputs": []
    },
    {
      "cell_type": "code",
      "execution_count": null,
      "metadata": {
        "id": "uiSiy8kxybJN"
      },
      "outputs": [],
      "source": [
        "!git clone https://github.com/vis-nlp/ChartQA.git"
      ]
    },
    {
      "cell_type": "code",
      "source": [
        "file1 = '/content/ChartQA/ChartQA Dataset/train/train_augmented.json'\n",
        "file2 = '/content/ChartQA/ChartQA Dataset/train/train_human.json'\n",
        "\n",
        "df1 = pd.read_json(file1)\n",
        "df2 = pd.read_json(file2)\n",
        "\n",
        "combined_df = pd.concat([df1, df2], ignore_index=True)\n",
        "\n",
        "combined_df['imgname'] = '/content/ChartQA/ChartQA Dataset/train/png/' + combined_df['imgname']\n",
        "\n",
        "combined_df['file_exists'] = False\n",
        "\n",
        "for i in tqdm(combined_df.index, desc=\"Checking file paths\"):\n",
        "    combined_df.loc[i, 'file_exists'] = os.path.exists(combined_df.loc[i, 'imgname'])\n",
        "\n",
        "print(\"Found:\", combined_df['file_exists'].sum())\n",
        "print(\"Not Found:\", (~combined_df['file_exists']).sum())\n",
        "\n",
        "combined_df.drop(columns=['file_exists'], inplace=True)\n",
        "\n",
        "combined_df.rename(columns={\n",
        "    'imgname': 'imagePath',\n",
        "    'query': 'input',\n",
        "    'label': 'output'\n",
        "}, inplace=True)\n",
        "\n",
        "save_dir = '/content'\n",
        "save_path = f'{save_dir}/chartqa_train.csv'\n",
        "\n",
        "import os\n",
        "os.makedirs(save_dir, exist_ok=True)\n",
        "\n",
        "combined_df.to_csv(save_path, index=False)\n",
        "print(f\"File saved to: {save_path}\")"
      ],
      "metadata": {
        "id": "Y5vCZu4Bzt0R",
        "colab": {
          "base_uri": "https://localhost:8080/"
        },
        "outputId": "6d6c027a-20d3-4d27-d43e-b98141f10189"
      },
      "execution_count": 27,
      "outputs": [
        {
          "output_type": "stream",
          "name": "stderr",
          "text": [
            "Checking file paths: 100%|██████████| 28299/28299 [00:05<00:00, 4822.51it/s]\n"
          ]
        },
        {
          "output_type": "stream",
          "name": "stdout",
          "text": [
            "Found: 28299\n",
            "Not Found: 0\n",
            "File saved to: /content/chartqa_train.csv\n"
          ]
        }
      ]
    },
    {
      "cell_type": "code",
      "source": [
        "file1 = '/content/ChartQA/ChartQA Dataset/test/test_augmented.json'\n",
        "file2 = '/content/ChartQA/ChartQA Dataset/test/test_human.json'\n",
        "\n",
        "df1 = pd.read_json(file1)\n",
        "df2 = pd.read_json(file2)\n",
        "\n",
        "combined_df = pd.concat([df1, df2], ignore_index=True)\n",
        "\n",
        "combined_df['imgname'] = '/content/ChartQA/ChartQA Dataset/test/png/' + combined_df['imgname']\n",
        "\n",
        "combined_df['file_exists'] = False\n",
        "\n",
        "for i in tqdm(combined_df.index, desc=\"Checking file paths\"):\n",
        "    combined_df.loc[i, 'file_exists'] = os.path.exists(combined_df.loc[i, 'imgname'])\n",
        "\n",
        "print(\"Found:\", combined_df['file_exists'].sum())\n",
        "print(\"Not Found:\", (~combined_df['file_exists']).sum())\n",
        "\n",
        "combined_df.drop(columns=['file_exists'], inplace=True)\n",
        "\n",
        "combined_df.rename(columns={\n",
        "    'imgname': 'imagePath',\n",
        "    'query': 'input',\n",
        "    'label': 'output'\n",
        "}, inplace=True)\n",
        "\n",
        "save_dir = '/content'\n",
        "save_path = f'{save_dir}/chartqa_test.csv'\n",
        "\n",
        "import os\n",
        "os.makedirs(save_dir, exist_ok=True)\n",
        "\n",
        "combined_df.to_csv(save_path, index=False)\n",
        "print(f\"File saved to: {save_path}\")"
      ],
      "metadata": {
        "colab": {
          "base_uri": "https://localhost:8080/"
        },
        "id": "oTQALhI5mhet",
        "outputId": "8ab2cc5c-7cd9-4f78-8cbf-25cd091c5947"
      },
      "execution_count": 28,
      "outputs": [
        {
          "output_type": "stream",
          "name": "stderr",
          "text": [
            "Checking file paths: 100%|██████████| 2500/2500 [00:00<00:00, 4616.92it/s]"
          ]
        },
        {
          "output_type": "stream",
          "name": "stdout",
          "text": [
            "Found: 2500\n",
            "Not Found: 0\n",
            "File saved to: /content/chartqa_test.csv\n"
          ]
        },
        {
          "output_type": "stream",
          "name": "stderr",
          "text": [
            "\n"
          ]
        }
      ]
    },
    {
      "cell_type": "code",
      "source": [
        "file1 = '/content/ChartQA/ChartQA Dataset/val/val_augmented.json'\n",
        "file2 = '/content/ChartQA/ChartQA Dataset/val/val_human.json'\n",
        "\n",
        "df1 = pd.read_json(file1)\n",
        "df2 = pd.read_json(file2)\n",
        "\n",
        "combined_df = pd.concat([df1, df2], ignore_index=True)\n",
        "\n",
        "combined_df['imgname'] = '/content/ChartQA/ChartQA Dataset/val/png/' + combined_df['imgname']\n",
        "\n",
        "combined_df['file_exists'] = False\n",
        "\n",
        "for i in tqdm(combined_df.index, desc=\"Checking file paths\"):\n",
        "    combined_df.loc[i, 'file_exists'] = os.path.exists(combined_df.loc[i, 'imgname'])\n",
        "\n",
        "print(\"Found:\", combined_df['file_exists'].sum())\n",
        "print(\"Not Found:\", (~combined_df['file_exists']).sum())\n",
        "\n",
        "combined_df.drop(columns=['file_exists'], inplace=True)\n",
        "\n",
        "combined_df.rename(columns={\n",
        "    'imgname': 'imagePath',\n",
        "    'query': 'input',\n",
        "    'label': 'output'\n",
        "}, inplace=True)\n",
        "\n",
        "save_dir = '/content'\n",
        "save_path = f'{save_dir}/chartqa_val.csv'\n",
        "\n",
        "import os\n",
        "os.makedirs(save_dir, exist_ok=True)\n",
        "\n",
        "combined_df.to_csv(save_path, index=False)\n",
        "print(f\"File saved to: {save_path}\")"
      ],
      "metadata": {
        "colab": {
          "base_uri": "https://localhost:8080/"
        },
        "id": "wjpGd4rGpd2J",
        "outputId": "540698ff-3b30-4e78-e5bc-75674415328c"
      },
      "execution_count": 29,
      "outputs": [
        {
          "output_type": "stream",
          "name": "stderr",
          "text": [
            "Checking file paths: 100%|██████████| 1920/1920 [00:00<00:00, 2314.04it/s]"
          ]
        },
        {
          "output_type": "stream",
          "name": "stdout",
          "text": [
            "Found: 1920\n",
            "Not Found: 0\n",
            "File saved to: /content/chartqa_val.csv\n"
          ]
        },
        {
          "output_type": "stream",
          "name": "stderr",
          "text": [
            "\n"
          ]
        }
      ]
    },
    {
      "cell_type": "code",
      "source": [],
      "metadata": {
        "id": "evVYCsx2qODW"
      },
      "execution_count": null,
      "outputs": []
    }
  ]
}