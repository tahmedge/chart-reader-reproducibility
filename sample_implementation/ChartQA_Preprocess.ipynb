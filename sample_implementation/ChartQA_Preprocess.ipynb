{
  "cells": [
    {
      "cell_type": "markdown",
      "metadata": {
        "id": "oCIZu3vUytsH"
      },
      "source": [
        "\n",
        "\n",
        "---\n",
        "\n",
        "\n",
        "\n",
        "**Dataset Preparation**\n",
        "\n",
        "\n",
        "---\n",
        "\n"
      ]
    },
    {
      "cell_type": "markdown",
      "metadata": {
        "id": "du_lD_tNywlw"
      },
      "source": [
        "ChartQA"
      ]
    },
    {
      "cell_type": "code",
      "execution_count": 12,
      "metadata": {
        "id": "9n3b0VpsiI0I"
      },
      "outputs": [],
      "source": [
        "import pandas as pd\n",
        "from tqdm import tqdm\n",
        "import os"
      ]
    },
    {
      "cell_type": "code",
      "execution_count": null,
      "metadata": {
        "id": "uiSiy8kxybJN"
      },
      "outputs": [],
      "source": [
        "!git clone https://github.com/vis-nlp/ChartQA.git"
      ]
    },
    {
      "cell_type": "code",
      "execution_count": 27,
      "metadata": {
        "colab": {
          "base_uri": "https://localhost:8080/"
        },
        "id": "Y5vCZu4Bzt0R",
        "outputId": "6d6c027a-20d3-4d27-d43e-b98141f10189"
      },
      "outputs": [
        {
          "name": "stderr",
          "output_type": "stream",
          "text": [
            "Checking file paths: 100%|██████████| 28299/28299 [00:05<00:00, 4822.51it/s]\n"
          ]
        },
        {
          "name": "stdout",
          "output_type": "stream",
          "text": [
            "Found: 28299\n",
            "Not Found: 0\n",
            "File saved to: /content/chartqa_train.csv\n"
          ]
        }
      ],
      "source": [
        "file1 = '/content/ChartQA/ChartQA Dataset/train/train_augmented.json'\n",
        "file2 = '/content/ChartQA/ChartQA Dataset/train/train_human.json'\n",
        "\n",
        "df1 = pd.read_json(file1)\n",
        "df2 = pd.read_json(file2)\n",
        "\n",
        "combined_df = pd.concat([df1, df2], ignore_index=True)\n",
        "\n",
        "combined_df['imgname'] = '/content/ChartQA/ChartQA Dataset/train/png/' + combined_df['imgname']\n",
        "\n",
        "combined_df['file_exists'] = False\n",
        "\n",
        "for i in tqdm(combined_df.index, desc=\"Checking file paths\"):\n",
        "    combined_df.loc[i, 'file_exists'] = os.path.exists(combined_df.loc[i, 'imgname'])\n",
        "\n",
        "print(\"Found:\", combined_df['file_exists'].sum())\n",
        "print(\"Not Found:\", (~combined_df['file_exists']).sum())\n",
        "\n",
        "combined_df.drop(columns=['file_exists'], inplace=True)\n",
        "\n",
        "combined_df.rename(columns={\n",
        "    'imgname': 'imagePath',\n",
        "    'query': 'input',\n",
        "    'label': 'output'\n",
        "}, inplace=True)\n",
        "\n",
        "save_dir = '/content'\n",
        "save_path = f'{save_dir}/chartqa_train.csv'\n",
        "\n",
        "import os\n",
        "os.makedirs(save_dir, exist_ok=True)\n",
        "\n",
        "combined_df.to_csv(save_path, index=False)\n",
        "print(f\"File saved to: {save_path}\")"
      ]
    },
    {
      "cell_type": "code",
      "execution_count": 28,
      "metadata": {
        "colab": {
          "base_uri": "https://localhost:8080/"
        },
        "id": "oTQALhI5mhet",
        "outputId": "8ab2cc5c-7cd9-4f78-8cbf-25cd091c5947"
      },
      "outputs": [
        {
          "name": "stderr",
          "output_type": "stream",
          "text": [
            "Checking file paths: 100%|██████████| 2500/2500 [00:00<00:00, 4616.92it/s]"
          ]
        },
        {
          "name": "stdout",
          "output_type": "stream",
          "text": [
            "Found: 2500\n",
            "Not Found: 0\n",
            "File saved to: /content/chartqa_test.csv\n"
          ]
        },
        {
          "name": "stderr",
          "output_type": "stream",
          "text": [
            "\n"
          ]
        }
      ],
      "source": [
        "file1 = '/content/ChartQA/ChartQA Dataset/test/test_augmented.json'\n",
        "file2 = '/content/ChartQA/ChartQA Dataset/test/test_human.json'\n",
        "\n",
        "df1 = pd.read_json(file1)\n",
        "df2 = pd.read_json(file2)\n",
        "\n",
        "combined_df = pd.concat([df1, df2], ignore_index=True)\n",
        "\n",
        "combined_df['imgname'] = '/content/ChartQA/ChartQA Dataset/test/png/' + combined_df['imgname']\n",
        "\n",
        "combined_df['file_exists'] = False\n",
        "\n",
        "for i in tqdm(combined_df.index, desc=\"Checking file paths\"):\n",
        "    combined_df.loc[i, 'file_exists'] = os.path.exists(combined_df.loc[i, 'imgname'])\n",
        "\n",
        "print(\"Found:\", combined_df['file_exists'].sum())\n",
        "print(\"Not Found:\", (~combined_df['file_exists']).sum())\n",
        "\n",
        "combined_df.drop(columns=['file_exists'], inplace=True)\n",
        "\n",
        "combined_df.rename(columns={\n",
        "    'imgname': 'imagePath',\n",
        "    'query': 'input',\n",
        "    'label': 'output'\n",
        "}, inplace=True)\n",
        "\n",
        "save_dir = '/content'\n",
        "save_path = f'{save_dir}/chartqa_test.csv'\n",
        "\n",
        "import os\n",
        "os.makedirs(save_dir, exist_ok=True)\n",
        "\n",
        "combined_df.to_csv(save_path, index=False)\n",
        "print(f\"File saved to: {save_path}\")"
      ]
    },
    {
      "cell_type": "code",
      "execution_count": null,
      "metadata": {
        "colab": {
          "base_uri": "https://localhost:8080/"
        },
        "id": "wjpGd4rGpd2J",
        "outputId": "540698ff-3b30-4e78-e5bc-75674415328c"
      },
      "outputs": [
        {
          "name": "stderr",
          "output_type": "stream",
          "text": [
            "Checking file paths: 100%|██████████| 1920/1920 [00:00<00:00, 2314.04it/s]"
          ]
        },
        {
          "name": "stdout",
          "output_type": "stream",
          "text": [
            "Found: 1920\n",
            "Not Found: 0\n",
            "File saved to: /content/chartqa_val.csv\n"
          ]
        },
        {
          "name": "stderr",
          "output_type": "stream",
          "text": [
            "\n"
          ]
        }
      ],
      "source": [
        "file1 = '/content/ChartQA/ChartQA Dataset/val/val_augmented.json'\n",
        "file2 = '/content/ChartQA/ChartQA Dataset/val/val_human.json'\n",
        "\n",
        "df1 = pd.read_json(file1)\n",
        "df2 = pd.read_json(file2)\n",
        "\n",
        "combined_df = pd.concat([df1, df2], ignore_index=True)\n",
        "\n",
        "combined_df['imgname'] = '/content/ChartQA/ChartQA Dataset/val/png/' + combined_df['imgname']\n",
        "\n",
        "combined_df['file_exists'] = False\n",
        "\n",
        "for i in tqdm(combined_df.index, desc=\"Checking file paths\"):\n",
        "    combined_df.loc[i, 'file_exists'] = os.path.exists(combined_df.loc[i, 'imgname'])\n",
        "\n",
        "print(\"Found:\", combined_df['file_exists'].sum())\n",
        "print(\"Not Found:\", (~combined_df['file_exists']).sum())\n",
        "\n",
        "combined_df.drop(columns=['file_exists'], inplace=True)\n",
        "\n",
        "combined_df.rename(columns={\n",
        "    'imgname': 'imagePath',\n",
        "    'query': 'input',\n",
        "    'label': 'output'\n",
        "}, inplace=True)\n",
        "\n",
        "save_dir = '/content'\n",
        "save_path = f'{save_dir}/chartqa_val.csv'\n",
        "\n",
        "import os\n",
        "os.makedirs(save_dir, exist_ok=True)\n",
        "\n",
        "combined_df.to_csv(save_path, index=False)\n",
        "print(f\"File saved to: {save_path}\")"
      ]
    },
    {
      "cell_type": "code",
      "execution_count": null,
      "metadata": {
        "id": "evVYCsx2qODW"
      },
      "outputs": [],
      "source": [
        "df=pd.read_csv('/content/chartqa_test.csv')"
      ]
    },
    {
      "cell_type": "code",
      "execution_count": null,
      "metadata": {},
      "outputs": [],
      "source": [
        "ocr_results = []\n",
        "for path in tqdm(df[\"imagePath\"], desc=\"Running OCR\"):\n",
        "    try:\n",
        "        text = pytesseract.image_to_string(Image.open(path))\n",
        "    except Exception as e:\n",
        "        text = f\"ERROR: {str(e)}\"\n",
        "    ocr_results.append(text)\n",
        "\n",
        "df[\"OCR\"] = ocr_results\n",
        "\n",
        "save_path = \"/content/chartqa_test_ocr.csv\"\n",
        "df.to_csv(save_path, index=False)\n",
        "\n",
        "print(f\"Saved OCR results to: {save_path}\")"
      ]
    },
    {
      "cell_type": "code",
      "execution_count": null,
      "metadata": {},
      "outputs": [],
      "source": [
        "df=pd.read_csv('/content/chartqa_val.csv')"
      ]
    },
    {
      "cell_type": "code",
      "execution_count": null,
      "metadata": {},
      "outputs": [],
      "source": [
        "ocr_results = []\n",
        "for path in tqdm(df[\"imagePath\"], desc=\"Running OCR\"):\n",
        "    try:\n",
        "        text = pytesseract.image_to_string(Image.open(path))\n",
        "    except Exception as e:\n",
        "        text = f\"ERROR: {str(e)}\"\n",
        "    ocr_results.append(text)\n",
        "\n",
        "df[\"OCR\"] = ocr_results\n",
        "\n",
        "save_path = \"/content/chartqa_val_ocr.csv\"\n",
        "df.to_csv(save_path, index=False)\n",
        "\n",
        "print(f\"Saved OCR results to: {save_path}\")"
      ]
    },
    {
      "cell_type": "code",
      "execution_count": null,
      "metadata": {},
      "outputs": [],
      "source": [
        "df=pd.read_csv('/content/chartqa_train.csv')"
      ]
    },
    {
      "cell_type": "code",
      "execution_count": null,
      "metadata": {},
      "outputs": [],
      "source": [
        "ocr_results = []\n",
        "for path in tqdm(df[\"imagePath\"], desc=\"Running OCR\"):\n",
        "    try:\n",
        "        text = pytesseract.image_to_string(Image.open(path))\n",
        "    except Exception as e:\n",
        "        text = f\"ERROR: {str(e)}\"\n",
        "    ocr_results.append(text)\n",
        "\n",
        "df[\"OCR\"] = ocr_results\n",
        "\n",
        "save_path = \"/content/chartqa_train_ocr.csv\"\n",
        "df.to_csv(save_path, index=False)\n",
        "\n",
        "print(f\"Saved OCR results to: {save_path}\")"
      ]
    }
  ],
  "metadata": {
    "colab": {
      "provenance": []
    },
    "kernelspec": {
      "display_name": "Python 3",
      "name": "python3"
    },
    "language_info": {
      "name": "python"
    }
  },
  "nbformat": 4,
  "nbformat_minor": 0
}
